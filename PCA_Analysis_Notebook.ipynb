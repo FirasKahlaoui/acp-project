
# Principal Component Analysis (PCA) on Statistical Data

## Step 1: Load and Explore the Data
We start by loading the data and performing an initial exploration.

```python
import pandas as pd

# Load the data from CSV
file_path = '/mnt/data/ACP Data.csv'
data = pd.read_csv(file_path)

# Display the first few rows of the dataset
print(data.head())
```

## Step 2: Statistical Indicators
Calculate the minimum, maximum, mean, and standard deviation for each variable.

```python
# Exclude the categorical column "Index"
numeric_data = data.iloc[:, 1:]

# Calculate statistical indicators
stats = numeric_data.describe().loc[['min', 'max', 'mean', 'std']].T
print("Statistical Indicators:\n", stats)
```

## Step 3: Correlation Matrix
Compute the correlation matrix between the variables.

```python
# Calculate the correlation matrix
correlation_matrix = numeric_data.corr()
print("Correlation Matrix:\n", correlation_matrix)
```

## Step 4: PCA Computation
Perform PCA to extract principal components, eigenvalues, and explained variance.

```python
from sklearn.decomposition import PCA

# Perform PCA
pca = PCA()
pca.fit(numeric_data)

# Eigenvalues and explained variance
eigenvalues = pca.explained_variance_
explained_variance_ratio = pca.explained_variance_ratio_
cumulative_variance = explained_variance_ratio.cumsum()

# Create a table of eigenvalues
eigenvalues_table = pd.DataFrame({
    'Eigenvalue': eigenvalues,
    'Explained Variance (%)': explained_variance_ratio * 100,
    'Cumulative Variance (%)': cumulative_variance * 100
})
print("Eigenvalues Table:\n", eigenvalues_table)
```

## Step 5: Select Two Principal Axes
Choose the two axes with the highest eigenvalues for further analysis.

```python
# Select the two principal components with the highest eigenvalues
top_axes = pca.components_[:2]
print("Top 2 Principal Axes:\n", top_axes)
```

## Step 6: Individuals Table
Project individuals onto the top two principal components.

```python
# Transform data into principal component space
individuals_pca = pca.transform(numeric_data)

# Create a table of individuals with their coordinates on the first two components
individuals_table = pd.DataFrame(individuals_pca[:, :2], columns=['F1', 'F2'], index=data['Index'])
print("Individuals Table:\n", individuals_table)
```

## Step 7: Correlation Circle
Visualize the relationship between the variables and the two principal components.

```python
import matplotlib.pyplot as plt

# Correlation circle
fig, ax = plt.subplots(figsize=(8, 8))
for i, var in enumerate(numeric_data.columns):
    ax.arrow(0, 0, top_axes[0, i], top_axes[1, i], color='blue', alpha=0.5)
    ax.text(top_axes[0, i], top_axes[1, i], var, color='black', ha='center', va='center')

ax.set_xlim(-1, 1)
ax.set_ylim(-1, 1)
ax.set_xlabel('PC1')
ax.set_ylabel('PC2')
ax.set_title('Correlation Circle')
plt.grid()
plt.show()
```

## Step 8: Correlation Between Variables and Principal Components
Calculate the correlation between the original variables and the principal components.

```python
# Compute correlations
correlations = pd.DataFrame(pca.components_.T, columns=[f'PC{i+1}' for i in range(pca.n_components_)], index=numeric_data.columns)
print("Correlations Between Variables and Principal Components:\n", correlations)
```
